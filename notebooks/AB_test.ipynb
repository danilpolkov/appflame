{
 "cells": [
  {
   "cell_type": "markdown",
   "metadata": {},
   "source": [
    "На проекте, где пользователь может отправить лайк другому пользователю, для увеличения количества лайков провели тест на замену сердца на галочку. При нажатии на крестик пользователю предлагается следующий пользователь. Тестовый вариант внедрили на пользователях с нечетным sender_id 24 марта в 16:00, на четных пользователях оставили базовый вариант.\t\t\t\t\t\t\t\n",
    "\n",
    "\n",
    "Вопрос\n",
    "Нужно ли внедрить нововведение для всех или отклонить его?\n",
    "Подкрепите выводы графиками\n",
    "\n",
    "\n",
    "sender_id -уникальный идентификатор отправителя\n",
    "\n",
    "platform_id - id платформы, 6 - декстоп, 7 - мобильная версия\n",
    "\n",
    "time_stamp -Дата и время отправки\n",
    "\n",
    "gender - Гендер отправителя\n",
    "\n",
    "reg_date Дата регистрации пользователя"
   ]
  },
  {
   "cell_type": "code",
   "execution_count": 2,
   "metadata": {},
   "outputs": [],
   "source": [
    "import pandas as pd\n",
    "\n",
    "from pathlib import Path\n",
    "import sys\n",
    "\n",
    "PATH = '/Users/danil/Documents/github/appflame'\n",
    "sys.path.append(str(PATH))"
   ]
  },
  {
   "cell_type": "code",
   "execution_count": 28,
   "metadata": {},
   "outputs": [],
   "source": [
    "import matplotlib.pyplot as plt"
   ]
  },
  {
   "cell_type": "code",
   "execution_count": 191,
   "metadata": {},
   "outputs": [
    {
     "name": "stdout",
     "output_type": "stream",
     "text": [
      "(768439, 5)\n"
     ]
    },
    {
     "data": {
      "text/html": [
       "<div>\n",
       "<style scoped>\n",
       "    .dataframe tbody tr th:only-of-type {\n",
       "        vertical-align: middle;\n",
       "    }\n",
       "\n",
       "    .dataframe tbody tr th {\n",
       "        vertical-align: top;\n",
       "    }\n",
       "\n",
       "    .dataframe thead th {\n",
       "        text-align: right;\n",
       "    }\n",
       "</style>\n",
       "<table border=\"1\" class=\"dataframe\">\n",
       "  <thead>\n",
       "    <tr style=\"text-align: right;\">\n",
       "      <th></th>\n",
       "      <th>sender_id</th>\n",
       "      <th>platform_id</th>\n",
       "      <th>time_stamp</th>\n",
       "      <th>gender</th>\n",
       "      <th>reg_date</th>\n",
       "    </tr>\n",
       "  </thead>\n",
       "  <tbody>\n",
       "    <tr>\n",
       "      <th>0</th>\n",
       "      <td>3207526951</td>\n",
       "      <td>6</td>\n",
       "      <td>16.03.2017 13:35</td>\n",
       "      <td>m</td>\n",
       "      <td>26.01.2017</td>\n",
       "    </tr>\n",
       "    <tr>\n",
       "      <th>1</th>\n",
       "      <td>3207526951</td>\n",
       "      <td>6</td>\n",
       "      <td>16.03.2017 9:09</td>\n",
       "      <td>m</td>\n",
       "      <td>26.01.2017</td>\n",
       "    </tr>\n",
       "    <tr>\n",
       "      <th>2</th>\n",
       "      <td>3207526951</td>\n",
       "      <td>6</td>\n",
       "      <td>16.03.2017 9:09</td>\n",
       "      <td>m</td>\n",
       "      <td>26.01.2017</td>\n",
       "    </tr>\n",
       "    <tr>\n",
       "      <th>3</th>\n",
       "      <td>3207526951</td>\n",
       "      <td>6</td>\n",
       "      <td>16.03.2017 12:13</td>\n",
       "      <td>m</td>\n",
       "      <td>26.01.2017</td>\n",
       "    </tr>\n",
       "    <tr>\n",
       "      <th>4</th>\n",
       "      <td>3207526951</td>\n",
       "      <td>6</td>\n",
       "      <td>15.03.2017 14:01</td>\n",
       "      <td>m</td>\n",
       "      <td>26.01.2017</td>\n",
       "    </tr>\n",
       "  </tbody>\n",
       "</table>\n",
       "</div>"
      ],
      "text/plain": [
       "    sender_id  platform_id        time_stamp gender    reg_date\n",
       "0  3207526951            6  16.03.2017 13:35      m  26.01.2017\n",
       "1  3207526951            6   16.03.2017 9:09      m  26.01.2017\n",
       "2  3207526951            6   16.03.2017 9:09      m  26.01.2017\n",
       "3  3207526951            6  16.03.2017 12:13      m  26.01.2017\n",
       "4  3207526951            6  15.03.2017 14:01      m  26.01.2017"
      ]
     },
     "execution_count": 191,
     "metadata": {},
     "output_type": "execute_result"
    }
   ],
   "source": [
    "df = pd.read_csv(PATH + '/data/raw/Test_4.csv', sep = ';')\n",
    "\n",
    "print(df.shape)\n",
    "df.head()"
   ]
  },
  {
   "cell_type": "code",
   "execution_count": 5,
   "metadata": {},
   "outputs": [
    {
     "data": {
      "text/plain": [
       "6    0.580517\n",
       "7    0.419483\n",
       "Name: platform_id, dtype: float64"
      ]
     },
     "execution_count": 5,
     "metadata": {},
     "output_type": "execute_result"
    }
   ],
   "source": [
    "df['platform_id'].value_counts()/df.shape[0]"
   ]
  },
  {
   "cell_type": "code",
   "execution_count": 10,
   "metadata": {},
   "outputs": [
    {
     "data": {
      "text/plain": [
       "m    0.858323\n",
       "f    0.141454\n",
       "     0.000223\n",
       "Name: gender, dtype: float64"
      ]
     },
     "execution_count": 10,
     "metadata": {},
     "output_type": "execute_result"
    }
   ],
   "source": [
    "df['gender'].value_counts()/df.shape[0]"
   ]
  },
  {
   "cell_type": "code",
   "execution_count": 8,
   "metadata": {},
   "outputs": [
    {
     "name": "stdout",
     "output_type": "stream",
     "text": [
      "min: 01.01.2017 max: 31.01.2017\n"
     ]
    }
   ],
   "source": [
    "print('min:', df['reg_date'].min(), 'max:', df['reg_date'].max())"
   ]
  },
  {
   "cell_type": "code",
   "execution_count": 9,
   "metadata": {},
   "outputs": [
    {
     "name": "stdout",
     "output_type": "stream",
     "text": [
      "min: 13.03.2017 0:00 max: 27.03.2017 0:00\n"
     ]
    }
   ],
   "source": [
    "print('min:', df['time_stamp'].min(), 'max:', df['time_stamp'].max())"
   ]
  },
  {
   "cell_type": "markdown",
   "metadata": {},
   "source": [
    "смотрим как отправляли в зависимости от дня и времени суток\n",
    "\n",
    "сравнивать какой показатель? среднее количество лайков за день? за час? скорее просто количество лайков за все время поделенное на количество часов (или на количество часов в сети) \n",
    "наверно среднее количество лайков в час, чтобы потом получить значения лайков и построить доверительные интервалы. \n",
    "\n",
    "сравнить количество лайков на первом этапе жизни старых пользователей и тех которые зарегались уже для нового банера"
   ]
  },
  {
   "cell_type": "code",
   "execution_count": 225,
   "metadata": {},
   "outputs": [],
   "source": [
    "df_16h = df.copy()"
   ]
  },
  {
   "cell_type": "code",
   "execution_count": 226,
   "metadata": {},
   "outputs": [],
   "source": [
    "df_16h['time_stamp'] = pd.to_datetime(df_16h['time_stamp'])\n",
    "df_16h['time_stamp'] = df_16h['time_stamp'] - pd.Timedelta(hours=16)\n",
    "\n",
    "df_16h['date'] = df_16h['time_stamp'].dt.date\n",
    "df_16h['DOW'] = df_16h['time_stamp'].dt.weekday"
   ]
  },
  {
   "cell_type": "code",
   "execution_count": 227,
   "metadata": {},
   "outputs": [],
   "source": [
    "likes_per_day = df_16h['date'].value_counts().sort_index()[:-1]"
   ]
  },
  {
   "cell_type": "markdown",
   "metadata": {},
   "source": [
    "for better visualization I will substract 16 housr from time_stamp and now test starts from 24 of March"
   ]
  },
  {
   "cell_type": "code",
   "execution_count": 228,
   "metadata": {},
   "outputs": [
    {
     "data": {
      "text/plain": [
       "0        Sunday\n",
       "1        Monday\n",
       "2       Tuesday\n",
       "3     Wednesday\n",
       "4      Thursday\n",
       "5        Friday\n",
       "6      Saturday\n",
       "7        Sunday\n",
       "8        Monday\n",
       "9       Tuesday\n",
       "10    Wednesday\n",
       "11     Thursday\n",
       "12       Friday\n",
       "13     Saturday\n",
       "dtype: object"
      ]
     },
     "execution_count": 228,
     "metadata": {},
     "output_type": "execute_result"
    }
   ],
   "source": [
    "likes_per_day_weekdays = pd.Series(pd.to_datetime(likes_per_day.index)).dt.day_name()\n",
    "likes_per_day_weekdays"
   ]
  },
  {
   "cell_type": "code",
   "execution_count": 229,
   "metadata": {},
   "outputs": [
    {
     "data": {
      "image/png": "[encoded data removed]",
      "text/plain": [
       "<Figure size 1008x360 with 1 Axes>"
      ]
     },
     "metadata": {
      "needs_background": "light"
     },
     "output_type": "display_data"
    }
   ],
   "source": [
    "likes_per_day.plot(figsize=(14,5), grid = True, xticks=likes_per_day.index).set_title('likes per day');\n",
    "plt.xticks(rotation=45);"
   ]
  },
  {
   "cell_type": "code",
   "execution_count": 230,
   "metadata": {},
   "outputs": [
    {
     "data": {
      "image/png": "[encoded data removed]",
      "text/plain": [
       "<Figure size 1008x360 with 1 Axes>"
      ]
     },
     "metadata": {
      "needs_background": "light"
     },
     "output_type": "display_data"
    }
   ],
   "source": [
    "users_per_day = df_16h[['sender_id', 'date']].drop_duplicates()['date'].value_counts()[:-1]\n",
    "users_per_day.plot(figsize=(14,5), grid = True, xticks=users_per_day.index).set_title('users per day');\n",
    "plt.xticks(rotation=45);"
   ]
  },
  {
   "cell_type": "code",
   "execution_count": 231,
   "metadata": {},
   "outputs": [],
   "source": [
    "user_likes_per_day = likes_per_day / users_per_day"
   ]
  },
  {
   "cell_type": "code",
   "execution_count": 233,
   "metadata": {},
   "outputs": [
    {
     "data": {
      "image/png": "[encoded data removed]",
      "text/plain": [
       "<Figure size 1008x360 with 1 Axes>"
      ]
     },
     "metadata": {
      "needs_background": "light"
     },
     "output_type": "display_data"
    }
   ],
   "source": [
    "user_likes_per_day.plot(figsize=(14,5), grid = True, xticks=user_likes_per_day.index).set_title('likes per users per day');\n",
    "plt.xticks(rotation=45);"
   ]
  },
  {
   "cell_type": "code",
   "execution_count": 234,
   "metadata": {},
   "outputs": [],
   "source": [
    "def is_odd(x):\n",
    "    if x % 2 == 0:\n",
    "        res = 0\n",
    "    else:\n",
    "        res = 1\n",
    "    return res"
   ]
  },
  {
   "cell_type": "code",
   "execution_count": 235,
   "metadata": {},
   "outputs": [],
   "source": [
    "df_16h['test_group'] = df_16h['sender_id'].apply(is_odd)"
   ]
  },
  {
   "cell_type": "code",
   "execution_count": 236,
   "metadata": {},
   "outputs": [
    {
     "data": {
      "text/html": [
       "<div>\n",
       "<style scoped>\n",
       "    .dataframe tbody tr th:only-of-type {\n",
       "        vertical-align: middle;\n",
       "    }\n",
       "\n",
       "    .dataframe tbody tr th {\n",
       "        vertical-align: top;\n",
       "    }\n",
       "\n",
       "    .dataframe thead th {\n",
       "        text-align: right;\n",
       "    }\n",
       "</style>\n",
       "<table border=\"1\" class=\"dataframe\">\n",
       "  <thead>\n",
       "    <tr style=\"text-align: right;\">\n",
       "      <th></th>\n",
       "      <th>sender_id</th>\n",
       "      <th>platform_id</th>\n",
       "      <th>time_stamp</th>\n",
       "      <th>gender</th>\n",
       "      <th>reg_date</th>\n",
       "      <th>date</th>\n",
       "      <th>DOW</th>\n",
       "      <th>test_group</th>\n",
       "      <th>time_stamp_-16h</th>\n",
       "    </tr>\n",
       "  </thead>\n",
       "  <tbody>\n",
       "    <tr>\n",
       "      <th>0</th>\n",
       "      <td>3207526951</td>\n",
       "      <td>6</td>\n",
       "      <td>2017-03-15 21:35:00</td>\n",
       "      <td>m</td>\n",
       "      <td>26.01.2017</td>\n",
       "      <td>2017-03-15</td>\n",
       "      <td>2</td>\n",
       "      <td>1</td>\n",
       "      <td>2017-03-15 21:35:00</td>\n",
       "    </tr>\n",
       "    <tr>\n",
       "      <th>1</th>\n",
       "      <td>3207526951</td>\n",
       "      <td>6</td>\n",
       "      <td>2017-03-15 17:09:00</td>\n",
       "      <td>m</td>\n",
       "      <td>26.01.2017</td>\n",
       "      <td>2017-03-15</td>\n",
       "      <td>2</td>\n",
       "      <td>1</td>\n",
       "      <td>2017-03-15 17:09:00</td>\n",
       "    </tr>\n",
       "    <tr>\n",
       "      <th>2</th>\n",
       "      <td>3207526951</td>\n",
       "      <td>6</td>\n",
       "      <td>2017-03-15 17:09:00</td>\n",
       "      <td>m</td>\n",
       "      <td>26.01.2017</td>\n",
       "      <td>2017-03-15</td>\n",
       "      <td>2</td>\n",
       "      <td>1</td>\n",
       "      <td>2017-03-15 17:09:00</td>\n",
       "    </tr>\n",
       "    <tr>\n",
       "      <th>3</th>\n",
       "      <td>3207526951</td>\n",
       "      <td>6</td>\n",
       "      <td>2017-03-15 20:13:00</td>\n",
       "      <td>m</td>\n",
       "      <td>26.01.2017</td>\n",
       "      <td>2017-03-15</td>\n",
       "      <td>2</td>\n",
       "      <td>1</td>\n",
       "      <td>2017-03-15 20:13:00</td>\n",
       "    </tr>\n",
       "    <tr>\n",
       "      <th>4</th>\n",
       "      <td>3207526951</td>\n",
       "      <td>6</td>\n",
       "      <td>2017-03-14 22:01:00</td>\n",
       "      <td>m</td>\n",
       "      <td>26.01.2017</td>\n",
       "      <td>2017-03-14</td>\n",
       "      <td>1</td>\n",
       "      <td>1</td>\n",
       "      <td>2017-03-14 22:01:00</td>\n",
       "    </tr>\n",
       "  </tbody>\n",
       "</table>\n",
       "</div>"
      ],
      "text/plain": [
       "    sender_id  platform_id          time_stamp gender    reg_date        date  \\\n",
       "0  3207526951            6 2017-03-15 21:35:00      m  26.01.2017  2017-03-15   \n",
       "1  3207526951            6 2017-03-15 17:09:00      m  26.01.2017  2017-03-15   \n",
       "2  3207526951            6 2017-03-15 17:09:00      m  26.01.2017  2017-03-15   \n",
       "3  3207526951            6 2017-03-15 20:13:00      m  26.01.2017  2017-03-15   \n",
       "4  3207526951            6 2017-03-14 22:01:00      m  26.01.2017  2017-03-14   \n",
       "\n",
       "   DOW  test_group     time_stamp_-16h  \n",
       "0    2           1 2017-03-15 21:35:00  \n",
       "1    2           1 2017-03-15 17:09:00  \n",
       "2    2           1 2017-03-15 17:09:00  \n",
       "3    2           1 2017-03-15 20:13:00  \n",
       "4    1           1 2017-03-14 22:01:00  "
      ]
     },
     "execution_count": 236,
     "metadata": {},
     "output_type": "execute_result"
    }
   ],
   "source": [
    "df_16h.head()"
   ]
  },
  {
   "cell_type": "code",
   "execution_count": 198,
   "metadata": {},
   "outputs": [],
   "source": [
    "# df = df[df['time_stamp'] < '2017-03-27']"
   ]
  },
  {
   "cell_type": "code",
   "execution_count": 237,
   "metadata": {},
   "outputs": [],
   "source": [
    "df_16h_p = df_16h.groupby(['date', 'test_group']).test_group.count().reset_index(name=\"count\")"
   ]
  },
  {
   "cell_type": "code",
   "execution_count": 238,
   "metadata": {},
   "outputs": [],
   "source": [
    "df_plot = df_16h_p.pivot(index='date', columns='test_group', values='count')"
   ]
  },
  {
   "cell_type": "code",
   "execution_count": 239,
   "metadata": {},
   "outputs": [
    {
     "data": {
      "image/png": "[encoded data removed]",
      "text/plain": [
       "<Figure size 1008x720 with 1 Axes>"
      ]
     },
     "metadata": {
      "needs_background": "light"
     },
     "output_type": "display_data"
    }
   ],
   "source": [
    "df_plot.plot(figsize = (14, 10)).set_title('likes per day in groups');"
   ]
  },
  {
   "cell_type": "markdown",
   "metadata": {},
   "source": [
    "as we can see that even before test, behaviour groups was not very similar"
   ]
  },
  {
   "cell_type": "code",
   "execution_count": 240,
   "metadata": {},
   "outputs": [],
   "source": [
    "from collections import Counter"
   ]
  },
  {
   "cell_type": "code",
   "execution_count": 241,
   "metadata": {},
   "outputs": [],
   "source": [
    "group_balance = Counter(map(is_odd, df_16h['sender_id'].unique()))"
   ]
  },
  {
   "cell_type": "markdown",
   "metadata": {},
   "source": [
    "as we can see that odd user group has less users"
   ]
  },
  {
   "cell_type": "code",
   "execution_count": 242,
   "metadata": {},
   "outputs": [
    {
     "data": {
      "text/html": [
       "<div>\n",
       "<style scoped>\n",
       "    .dataframe tbody tr th:only-of-type {\n",
       "        vertical-align: middle;\n",
       "    }\n",
       "\n",
       "    .dataframe tbody tr th {\n",
       "        vertical-align: top;\n",
       "    }\n",
       "\n",
       "    .dataframe thead th {\n",
       "        text-align: right;\n",
       "    }\n",
       "</style>\n",
       "<table border=\"1\" class=\"dataframe\">\n",
       "  <thead>\n",
       "    <tr style=\"text-align: right;\">\n",
       "      <th></th>\n",
       "      <th>date</th>\n",
       "      <th>test_group</th>\n",
       "      <th>count</th>\n",
       "    </tr>\n",
       "  </thead>\n",
       "  <tbody>\n",
       "    <tr>\n",
       "      <th>0</th>\n",
       "      <td>2017-03-12</td>\n",
       "      <td>0</td>\n",
       "      <td>23198</td>\n",
       "    </tr>\n",
       "    <tr>\n",
       "      <th>1</th>\n",
       "      <td>2017-03-12</td>\n",
       "      <td>1</td>\n",
       "      <td>32118</td>\n",
       "    </tr>\n",
       "    <tr>\n",
       "      <th>2</th>\n",
       "      <td>2017-03-13</td>\n",
       "      <td>0</td>\n",
       "      <td>38124</td>\n",
       "    </tr>\n",
       "    <tr>\n",
       "      <th>3</th>\n",
       "      <td>2017-03-13</td>\n",
       "      <td>1</td>\n",
       "      <td>36890</td>\n",
       "    </tr>\n",
       "    <tr>\n",
       "      <th>4</th>\n",
       "      <td>2017-03-14</td>\n",
       "      <td>0</td>\n",
       "      <td>34811</td>\n",
       "    </tr>\n",
       "  </tbody>\n",
       "</table>\n",
       "</div>"
      ],
      "text/plain": [
       "         date  test_group  count\n",
       "0  2017-03-12           0  23198\n",
       "1  2017-03-12           1  32118\n",
       "2  2017-03-13           0  38124\n",
       "3  2017-03-13           1  36890\n",
       "4  2017-03-14           0  34811"
      ]
     },
     "execution_count": 242,
     "metadata": {},
     "output_type": "execute_result"
    }
   ],
   "source": [
    "df_16h_p.head()"
   ]
  },
  {
   "cell_type": "code",
   "execution_count": 243,
   "metadata": {},
   "outputs": [],
   "source": [
    "df_likes_per_day_per_group = df_16h.groupby(['date', 'test_group']).test_group.count().reset_index(name=\"count\")"
   ]
  },
  {
   "cell_type": "code",
   "execution_count": 244,
   "metadata": {},
   "outputs": [
    {
     "data": {
      "text/html": [
       "<div>\n",
       "<style scoped>\n",
       "    .dataframe tbody tr th:only-of-type {\n",
       "        vertical-align: middle;\n",
       "    }\n",
       "\n",
       "    .dataframe tbody tr th {\n",
       "        vertical-align: top;\n",
       "    }\n",
       "\n",
       "    .dataframe thead th {\n",
       "        text-align: right;\n",
       "    }\n",
       "</style>\n",
       "<table border=\"1\" class=\"dataframe\">\n",
       "  <thead>\n",
       "    <tr style=\"text-align: right;\">\n",
       "      <th></th>\n",
       "      <th>date</th>\n",
       "      <th>test_group</th>\n",
       "      <th>count</th>\n",
       "    </tr>\n",
       "  </thead>\n",
       "  <tbody>\n",
       "    <tr>\n",
       "      <th>25</th>\n",
       "      <td>2017-03-24</td>\n",
       "      <td>1</td>\n",
       "      <td>23131</td>\n",
       "    </tr>\n",
       "    <tr>\n",
       "      <th>26</th>\n",
       "      <td>2017-03-25</td>\n",
       "      <td>0</td>\n",
       "      <td>24323</td>\n",
       "    </tr>\n",
       "    <tr>\n",
       "      <th>27</th>\n",
       "      <td>2017-03-25</td>\n",
       "      <td>1</td>\n",
       "      <td>18875</td>\n",
       "    </tr>\n",
       "    <tr>\n",
       "      <th>28</th>\n",
       "      <td>2017-03-26</td>\n",
       "      <td>0</td>\n",
       "      <td>9550</td>\n",
       "    </tr>\n",
       "    <tr>\n",
       "      <th>29</th>\n",
       "      <td>2017-03-26</td>\n",
       "      <td>1</td>\n",
       "      <td>7957</td>\n",
       "    </tr>\n",
       "  </tbody>\n",
       "</table>\n",
       "</div>"
      ],
      "text/plain": [
       "          date  test_group  count\n",
       "25  2017-03-24           1  23131\n",
       "26  2017-03-25           0  24323\n",
       "27  2017-03-25           1  18875\n",
       "28  2017-03-26           0   9550\n",
       "29  2017-03-26           1   7957"
      ]
     },
     "execution_count": 244,
     "metadata": {},
     "output_type": "execute_result"
    }
   ],
   "source": [
    "df_likes_per_day_per_group.tail()"
   ]
  },
  {
   "cell_type": "code",
   "execution_count": 245,
   "metadata": {},
   "outputs": [],
   "source": [
    "df_users_per_day_per_group = df_16h.groupby(['date', 'test_group']).sender_id.nunique().reset_index(name=\"count\")"
   ]
  },
  {
   "cell_type": "code",
   "execution_count": 246,
   "metadata": {},
   "outputs": [
    {
     "data": {
      "text/html": [
       "<div>\n",
       "<style scoped>\n",
       "    .dataframe tbody tr th:only-of-type {\n",
       "        vertical-align: middle;\n",
       "    }\n",
       "\n",
       "    .dataframe tbody tr th {\n",
       "        vertical-align: top;\n",
       "    }\n",
       "\n",
       "    .dataframe thead th {\n",
       "        text-align: right;\n",
       "    }\n",
       "</style>\n",
       "<table border=\"1\" class=\"dataframe\">\n",
       "  <thead>\n",
       "    <tr style=\"text-align: right;\">\n",
       "      <th></th>\n",
       "      <th>date</th>\n",
       "      <th>test_group</th>\n",
       "      <th>count</th>\n",
       "    </tr>\n",
       "  </thead>\n",
       "  <tbody>\n",
       "    <tr>\n",
       "      <th>25</th>\n",
       "      <td>2017-03-24</td>\n",
       "      <td>1</td>\n",
       "      <td>1969</td>\n",
       "    </tr>\n",
       "    <tr>\n",
       "      <th>26</th>\n",
       "      <td>2017-03-25</td>\n",
       "      <td>0</td>\n",
       "      <td>1958</td>\n",
       "    </tr>\n",
       "    <tr>\n",
       "      <th>27</th>\n",
       "      <td>2017-03-25</td>\n",
       "      <td>1</td>\n",
       "      <td>1864</td>\n",
       "    </tr>\n",
       "    <tr>\n",
       "      <th>28</th>\n",
       "      <td>2017-03-26</td>\n",
       "      <td>0</td>\n",
       "      <td>920</td>\n",
       "    </tr>\n",
       "    <tr>\n",
       "      <th>29</th>\n",
       "      <td>2017-03-26</td>\n",
       "      <td>1</td>\n",
       "      <td>866</td>\n",
       "    </tr>\n",
       "  </tbody>\n",
       "</table>\n",
       "</div>"
      ],
      "text/plain": [
       "          date  test_group  count\n",
       "25  2017-03-24           1   1969\n",
       "26  2017-03-25           0   1958\n",
       "27  2017-03-25           1   1864\n",
       "28  2017-03-26           0    920\n",
       "29  2017-03-26           1    866"
      ]
     },
     "execution_count": 246,
     "metadata": {},
     "output_type": "execute_result"
    }
   ],
   "source": [
    "df_users_per_day_per_group.tail()"
   ]
  },
  {
   "cell_type": "code",
   "execution_count": 247,
   "metadata": {},
   "outputs": [],
   "source": [
    "df_likes_per_day_per_group['likes_per_users'] = df_likes_per_day_per_group['count'] / df_users_per_day_per_group['count']"
   ]
  },
  {
   "cell_type": "code",
   "execution_count": 248,
   "metadata": {},
   "outputs": [],
   "source": [
    "df_plot = df_likes_per_day_per_group.pivot(index='date', columns='test_group', values='likes_per_users')"
   ]
  },
  {
   "cell_type": "code",
   "execution_count": 249,
   "metadata": {},
   "outputs": [
    {
     "data": {
      "image/png": "[encoded data removed]",
      "text/plain": [
       "<Figure size 1008x720 with 1 Axes>"
      ]
     },
     "metadata": {
      "needs_background": "light"
     },
     "output_type": "display_data"
    }
   ],
   "source": [
    "df_plot.plot(figsize = (14, 10)).set_title('likes per user per day');"
   ]
  },
  {
   "cell_type": "markdown",
   "metadata": {},
   "source": [
    "as we can see even likes per user in group declining, => new banner has lower CTR"
   ]
  },
  {
   "cell_type": "markdown",
   "metadata": {},
   "source": [
    "lets check difference between groups"
   ]
  },
  {
   "cell_type": "code",
   "execution_count": 254,
   "metadata": {},
   "outputs": [],
   "source": [
    "difference = (df_plot[0] - df_plot[1])"
   ]
  },
  {
   "cell_type": "code",
   "execution_count": 255,
   "metadata": {},
   "outputs": [
    {
     "data": {
      "text/plain": [
       "date\n",
       "2017-03-12   -5.039401\n",
       "2017-03-13    0.148098\n",
       "2017-03-14    0.817314\n",
       "2017-03-15    0.967356\n",
       "2017-03-16   -0.625740\n",
       "2017-03-17   -0.608493\n",
       "2017-03-18   -0.154080\n",
       "2017-03-19   -0.966492\n",
       "2017-03-20    0.215338\n",
       "2017-03-21    1.076998\n",
       "2017-03-22   -0.157037\n",
       "2017-03-23    0.329799\n",
       "2017-03-24    0.047348\n",
       "2017-03-25    2.296297\n",
       "2017-03-26    1.192213\n",
       "dtype: float64"
      ]
     },
     "execution_count": 255,
     "metadata": {},
     "output_type": "execute_result"
    }
   ],
   "source": [
    "difference"
   ]
  },
  {
   "cell_type": "code",
   "execution_count": 259,
   "metadata": {},
   "outputs": [],
   "source": [
    "mean = difference.values[:-3].mean()\n",
    "std = difference.values[:-3].std()"
   ]
  },
  {
   "cell_type": "code",
   "execution_count": 260,
   "metadata": {},
   "outputs": [
    {
     "data": {
      "text/plain": [
       "[-3.4287119142570166, 2.7626552131611612]"
      ]
     },
     "execution_count": 260,
     "metadata": {},
     "output_type": "execute_result"
    }
   ],
   "source": [
    "[mean - 2 * std, mean + 2 * std]"
   ]
  },
  {
   "cell_type": "markdown",
   "metadata": {},
   "source": [
    "and all values after 2017-03-24 lay in that boundaries => this is not confident information to say that new banner worth than original"
   ]
  },
  {
   "cell_type": "code",
   "execution_count": 76,
   "metadata": {},
   "outputs": [],
   "source": [
    "ab_df = df[df['time_stamp'] >= '2017-03-24 16:00:00']"
   ]
  },
  {
   "cell_type": "code",
   "execution_count": 78,
   "metadata": {},
   "outputs": [
    {
     "data": {
      "text/html": [
       "<div>\n",
       "<style scoped>\n",
       "    .dataframe tbody tr th:only-of-type {\n",
       "        vertical-align: middle;\n",
       "    }\n",
       "\n",
       "    .dataframe tbody tr th {\n",
       "        vertical-align: top;\n",
       "    }\n",
       "\n",
       "    .dataframe thead th {\n",
       "        text-align: right;\n",
       "    }\n",
       "</style>\n",
       "<table border=\"1\" class=\"dataframe\">\n",
       "  <thead>\n",
       "    <tr style=\"text-align: right;\">\n",
       "      <th></th>\n",
       "      <th>sender_id</th>\n",
       "      <th>platform_id</th>\n",
       "      <th>time_stamp</th>\n",
       "      <th>gender</th>\n",
       "      <th>reg_date</th>\n",
       "      <th>date</th>\n",
       "      <th>DOW</th>\n",
       "    </tr>\n",
       "  </thead>\n",
       "  <tbody>\n",
       "    <tr>\n",
       "      <th>295310</th>\n",
       "      <td>3217917298</td>\n",
       "      <td>7</td>\n",
       "      <td>2017-03-24 16:00:00</td>\n",
       "      <td>f</td>\n",
       "      <td>19.03.2017</td>\n",
       "      <td>2017-03-24</td>\n",
       "      <td>4</td>\n",
       "    </tr>\n",
       "    <tr>\n",
       "      <th>558717</th>\n",
       "      <td>3205198691</td>\n",
       "      <td>7</td>\n",
       "      <td>2017-03-24 16:00:00</td>\n",
       "      <td>m</td>\n",
       "      <td>15.01.2017</td>\n",
       "      <td>2017-03-24</td>\n",
       "      <td>4</td>\n",
       "    </tr>\n",
       "    <tr>\n",
       "      <th>558724</th>\n",
       "      <td>3205198691</td>\n",
       "      <td>7</td>\n",
       "      <td>2017-03-24 16:00:00</td>\n",
       "      <td>m</td>\n",
       "      <td>15.01.2017</td>\n",
       "      <td>2017-03-24</td>\n",
       "      <td>4</td>\n",
       "    </tr>\n",
       "    <tr>\n",
       "      <th>558725</th>\n",
       "      <td>3205198691</td>\n",
       "      <td>7</td>\n",
       "      <td>2017-03-24 16:00:00</td>\n",
       "      <td>m</td>\n",
       "      <td>15.01.2017</td>\n",
       "      <td>2017-03-24</td>\n",
       "      <td>4</td>\n",
       "    </tr>\n",
       "    <tr>\n",
       "      <th>198599</th>\n",
       "      <td>3205140908</td>\n",
       "      <td>6</td>\n",
       "      <td>2017-03-24 16:00:00</td>\n",
       "      <td>m</td>\n",
       "      <td>15.01.2017</td>\n",
       "      <td>2017-03-24</td>\n",
       "      <td>4</td>\n",
       "    </tr>\n",
       "    <tr>\n",
       "      <th>...</th>\n",
       "      <td>...</td>\n",
       "      <td>...</td>\n",
       "      <td>...</td>\n",
       "      <td>...</td>\n",
       "      <td>...</td>\n",
       "      <td>...</td>\n",
       "      <td>...</td>\n",
       "    </tr>\n",
       "    <tr>\n",
       "      <th>277231</th>\n",
       "      <td>3219303136</td>\n",
       "      <td>6</td>\n",
       "      <td>2017-03-26 23:59:00</td>\n",
       "      <td>f</td>\n",
       "      <td>26.03.2017</td>\n",
       "      <td>2017-03-26</td>\n",
       "      <td>6</td>\n",
       "    </tr>\n",
       "    <tr>\n",
       "      <th>277325</th>\n",
       "      <td>3219308377</td>\n",
       "      <td>7</td>\n",
       "      <td>2017-03-26 23:59:00</td>\n",
       "      <td>m</td>\n",
       "      <td>26.03.2017</td>\n",
       "      <td>2017-03-26</td>\n",
       "      <td>6</td>\n",
       "    </tr>\n",
       "    <tr>\n",
       "      <th>277313</th>\n",
       "      <td>3219308377</td>\n",
       "      <td>7</td>\n",
       "      <td>2017-03-26 23:59:00</td>\n",
       "      <td>m</td>\n",
       "      <td>26.03.2017</td>\n",
       "      <td>2017-03-26</td>\n",
       "      <td>6</td>\n",
       "    </tr>\n",
       "    <tr>\n",
       "      <th>665169</th>\n",
       "      <td>3212514032</td>\n",
       "      <td>6</td>\n",
       "      <td>2017-03-26 23:59:00</td>\n",
       "      <td>m</td>\n",
       "      <td>19.02.2017</td>\n",
       "      <td>2017-03-26</td>\n",
       "      <td>6</td>\n",
       "    </tr>\n",
       "    <tr>\n",
       "      <th>704689</th>\n",
       "      <td>3218865261</td>\n",
       "      <td>6</td>\n",
       "      <td>2017-03-27 00:00:00</td>\n",
       "      <td>f</td>\n",
       "      <td>24.03.2017</td>\n",
       "      <td>2017-03-27</td>\n",
       "      <td>0</td>\n",
       "    </tr>\n",
       "  </tbody>\n",
       "</table>\n",
       "<p>107592 rows × 7 columns</p>\n",
       "</div>"
      ],
      "text/plain": [
       "         sender_id  platform_id          time_stamp gender    reg_date  \\\n",
       "295310  3217917298            7 2017-03-24 16:00:00      f  19.03.2017   \n",
       "558717  3205198691            7 2017-03-24 16:00:00      m  15.01.2017   \n",
       "558724  3205198691            7 2017-03-24 16:00:00      m  15.01.2017   \n",
       "558725  3205198691            7 2017-03-24 16:00:00      m  15.01.2017   \n",
       "198599  3205140908            6 2017-03-24 16:00:00      m  15.01.2017   \n",
       "...            ...          ...                 ...    ...         ...   \n",
       "277231  3219303136            6 2017-03-26 23:59:00      f  26.03.2017   \n",
       "277325  3219308377            7 2017-03-26 23:59:00      m  26.03.2017   \n",
       "277313  3219308377            7 2017-03-26 23:59:00      m  26.03.2017   \n",
       "665169  3212514032            6 2017-03-26 23:59:00      m  19.02.2017   \n",
       "704689  3218865261            6 2017-03-27 00:00:00      f  24.03.2017   \n",
       "\n",
       "              date  DOW  \n",
       "295310  2017-03-24    4  \n",
       "558717  2017-03-24    4  \n",
       "558724  2017-03-24    4  \n",
       "558725  2017-03-24    4  \n",
       "198599  2017-03-24    4  \n",
       "...            ...  ...  \n",
       "277231  2017-03-26    6  \n",
       "277325  2017-03-26    6  \n",
       "277313  2017-03-26    6  \n",
       "665169  2017-03-26    6  \n",
       "704689  2017-03-27    0  \n",
       "\n",
       "[107592 rows x 7 columns]"
      ]
     },
     "execution_count": 78,
     "metadata": {},
     "output_type": "execute_result"
    }
   ],
   "source": [
    "ab_df.sort_values('time_stamp')"
   ]
  },
  {
   "cell_type": "code",
   "execution_count": 86,
   "metadata": {},
   "outputs": [
    {
     "data": {
      "text/html": [
       "<div>\n",
       "<style scoped>\n",
       "    .dataframe tbody tr th:only-of-type {\n",
       "        vertical-align: middle;\n",
       "    }\n",
       "\n",
       "    .dataframe tbody tr th {\n",
       "        vertical-align: top;\n",
       "    }\n",
       "\n",
       "    .dataframe thead th {\n",
       "        text-align: right;\n",
       "    }\n",
       "</style>\n",
       "<table border=\"1\" class=\"dataframe\">\n",
       "  <thead>\n",
       "    <tr style=\"text-align: right;\">\n",
       "      <th></th>\n",
       "      <th>sender_id</th>\n",
       "      <th>platform_id</th>\n",
       "      <th>time_stamp</th>\n",
       "      <th>gender</th>\n",
       "      <th>reg_date</th>\n",
       "      <th>date</th>\n",
       "      <th>DOW</th>\n",
       "      <th>test_group</th>\n",
       "    </tr>\n",
       "  </thead>\n",
       "  <tbody>\n",
       "    <tr>\n",
       "      <th>150161</th>\n",
       "      <td>3218632174</td>\n",
       "      <td>7</td>\n",
       "      <td>2017-03-26 07:34:00</td>\n",
       "      <td>m</td>\n",
       "      <td>23.03.2017</td>\n",
       "      <td>2017-03-26</td>\n",
       "      <td>6</td>\n",
       "      <td>0</td>\n",
       "    </tr>\n",
       "    <tr>\n",
       "      <th>150162</th>\n",
       "      <td>3218635027</td>\n",
       "      <td>7</td>\n",
       "      <td>2017-03-26 06:19:00</td>\n",
       "      <td>m</td>\n",
       "      <td>23.03.2017</td>\n",
       "      <td>2017-03-26</td>\n",
       "      <td>6</td>\n",
       "      <td>1</td>\n",
       "    </tr>\n",
       "    <tr>\n",
       "      <th>150163</th>\n",
       "      <td>3218635027</td>\n",
       "      <td>7</td>\n",
       "      <td>2017-03-26 06:19:00</td>\n",
       "      <td>m</td>\n",
       "      <td>23.03.2017</td>\n",
       "      <td>2017-03-26</td>\n",
       "      <td>6</td>\n",
       "      <td>1</td>\n",
       "    </tr>\n",
       "    <tr>\n",
       "      <th>150164</th>\n",
       "      <td>3218635027</td>\n",
       "      <td>7</td>\n",
       "      <td>2017-03-26 06:18:00</td>\n",
       "      <td>m</td>\n",
       "      <td>23.03.2017</td>\n",
       "      <td>2017-03-26</td>\n",
       "      <td>6</td>\n",
       "      <td>1</td>\n",
       "    </tr>\n",
       "    <tr>\n",
       "      <th>150165</th>\n",
       "      <td>3218635027</td>\n",
       "      <td>7</td>\n",
       "      <td>2017-03-26 06:19:00</td>\n",
       "      <td>m</td>\n",
       "      <td>23.03.2017</td>\n",
       "      <td>2017-03-26</td>\n",
       "      <td>6</td>\n",
       "      <td>1</td>\n",
       "    </tr>\n",
       "  </tbody>\n",
       "</table>\n",
       "</div>"
      ],
      "text/plain": [
       "         sender_id  platform_id          time_stamp gender    reg_date  \\\n",
       "150161  3218632174            7 2017-03-26 07:34:00      m  23.03.2017   \n",
       "150162  3218635027            7 2017-03-26 06:19:00      m  23.03.2017   \n",
       "150163  3218635027            7 2017-03-26 06:19:00      m  23.03.2017   \n",
       "150164  3218635027            7 2017-03-26 06:18:00      m  23.03.2017   \n",
       "150165  3218635027            7 2017-03-26 06:19:00      m  23.03.2017   \n",
       "\n",
       "              date  DOW  test_group  \n",
       "150161  2017-03-26    6           0  \n",
       "150162  2017-03-26    6           1  \n",
       "150163  2017-03-26    6           1  \n",
       "150164  2017-03-26    6           1  \n",
       "150165  2017-03-26    6           1  "
      ]
     },
     "execution_count": 86,
     "metadata": {},
     "output_type": "execute_result"
    }
   ],
   "source": [
    "ab_df.head()"
   ]
  },
  {
   "cell_type": "code",
   "execution_count": 87,
   "metadata": {},
   "outputs": [
    {
     "data": {
      "text/plain": [
       "0    57628\n",
       "1    49964\n",
       "Name: test_group, dtype: int64"
      ]
     },
     "execution_count": 87,
     "metadata": {},
     "output_type": "execute_result"
    }
   ],
   "source": [
    "ab_df['test_group'].value_counts()"
   ]
  },
  {
   "cell_type": "markdown",
   "metadata": {},
   "source": [
    "just for now, there were more likes on old banner"
   ]
  },
  {
   "cell_type": "code",
   "execution_count": 89,
   "metadata": {},
   "outputs": [
    {
     "data": {
      "text/plain": [
       "m    93525\n",
       "f    14044\n",
       "        23\n",
       "Name: gender, dtype: int64"
      ]
     },
     "execution_count": 89,
     "metadata": {},
     "output_type": "execute_result"
    }
   ],
   "source": [
    "ab_df['gender'].value_counts()"
   ]
  },
  {
   "cell_type": "code",
   "execution_count": 94,
   "metadata": {},
   "outputs": [
    {
     "data": {
      "text/plain": [
       "gender  test_group\n",
       "f       0              7078\n",
       "        1              6966\n",
       "m       0             50550\n",
       "        1             42975\n",
       "Name: test_group, dtype: int64"
      ]
     },
     "execution_count": 94,
     "metadata": {},
     "output_type": "execute_result"
    }
   ],
   "source": [
    "ab_df[ab_df['gender'] != ' '].groupby(['gender', 'test_group']).test_group.count()"
   ]
  },
  {
   "cell_type": "markdown",
   "metadata": {},
   "source": [
    "male started to make less likes"
   ]
  },
  {
   "cell_type": "code",
   "execution_count": 95,
   "metadata": {},
   "outputs": [
    {
     "data": {
      "text/plain": [
       "platform_id  test_group\n",
       "6            0             30107\n",
       "             1             27401\n",
       "7            0             27521\n",
       "             1             22563\n",
       "Name: test_group, dtype: int64"
      ]
     },
     "execution_count": 95,
     "metadata": {},
     "output_type": "execute_result"
    }
   ],
   "source": [
    "ab_df.groupby(['platform_id', 'test_group']).test_group.count()"
   ]
  },
  {
   "cell_type": "markdown",
   "metadata": {},
   "source": [
    "from mobile version we see bigger decline, than from desctop"
   ]
  },
  {
   "cell_type": "code",
   "execution_count": 106,
   "metadata": {},
   "outputs": [],
   "source": [
    "ab_df.loc[: ,'reg_date'] = pd.to_datetime(ab_df['reg_date'])"
   ]
  },
  {
   "cell_type": "code",
   "execution_count": 112,
   "metadata": {},
   "outputs": [],
   "source": [
    "ab_df.loc[:, 'new_user'] = ab_df.eval('reg_date >= time_stamp').astype('uint8')"
   ]
  },
  {
   "cell_type": "code",
   "execution_count": 116,
   "metadata": {},
   "outputs": [
    {
     "data": {
      "text/plain": [
       "new_user  test_group\n",
       "0         0             42459\n",
       "          1             38135\n",
       "1         0             15169\n",
       "          1             11829\n",
       "Name: test_group, dtype: int64"
      ]
     },
     "execution_count": 116,
     "metadata": {},
     "output_type": "execute_result"
    }
   ],
   "source": [
    "ab_df.groupby(['new_user', 'test_group']).test_group.count()"
   ]
  },
  {
   "cell_type": "markdown",
   "metadata": {},
   "source": [
    "in both cases, for new users abd for old ones old design more clicable"
   ]
  },
  {
   "cell_type": "code",
   "execution_count": null,
   "metadata": {},
   "outputs": [],
   "source": []
  }
 ],
 "metadata": {
  "kernelspec": {
   "display_name": "Python 3",
   "language": "python",
   "name": "python3"
  },
  "language_info": {
   "codemirror_mode": {
    "name": "ipython",
    "version": 3
   },
   "file_extension": ".py",
   "mimetype": "text/x-python",
   "name": "python",
   "nbconvert_exporter": "python",
   "pygments_lexer": "ipython3",
   "version": "3.7.7"
  }
 },
 "nbformat": 4,
 "nbformat_minor": 4
}
